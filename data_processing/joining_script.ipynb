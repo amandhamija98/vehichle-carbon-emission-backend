{
 "cells": [
  {
   "cell_type": "code",
   "execution_count": 1,
   "metadata": {},
   "outputs": [],
   "source": [
    "import pandas as pd"
   ]
  },
  {
   "cell_type": "code",
   "execution_count": 50,
   "metadata": {},
   "outputs": [],
   "source": [
    "airveda = pd.read_csv('C:\\\\Users\\\\Aman Dhamija\\\\Downloads\\\\airveda_data__1201180118 (1) - airveda_data__1201180118 (1).csv')\n",
    "androsensor = pd.read_csv('C:\\\\Users\\\\Aman Dhamija\\\\Downloads\\\\Sensor_record_20191106_104059_AndroSensor.csv')"
   ]
  },
  {
   "cell_type": "code",
   "execution_count": 51,
   "metadata": {},
   "outputs": [],
   "source": [
    "mileage='189853'\n",
    "VID='pb65024694'\n",
    "SID='1201180118'"
   ]
  },
  {
   "cell_type": "code",
   "execution_count": 52,
   "metadata": {},
   "outputs": [],
   "source": [
    "airveda['Created_Date(Asia/Kolkata)'] = pd.to_datetime(airveda['Created_Date(Asia/Kolkata)'],dayfirst=True)\n",
    "androsensor['YYYY-MO-DD HH-MI-SS_SSS']=androsensor['YYYY-MO-DD HH-MI-SS_SSS'].str[:19]\n",
    "androsensor['YYYY-MO-DD HH-MI-SS_SSS'] = pd.to_datetime(androsensor['YYYY-MO-DD HH-MI-SS_SSS'] )\n",
    "# airveda_index =0\n",
    "# andro_index=0\n",
    "# andro_records= len(androsensor)\n",
    "def append_data(host, guest):\n",
    "    androsensor.loc[host,'AQI']=airveda.loc[guest,'AQI']\n",
    "    androsensor.loc[host,'PM2.5']=airveda.loc[guest,'PM2.5']\n",
    "    androsensor.loc[host,'PM10']=airveda.loc[guest,'PM10']\n",
    "    androsensor.loc[host,'CO2']=airveda.loc[guest,'CO2']\n",
    "    androsensor.loc[host,'Temperature']=airveda.loc[guest,'Temperature']\n",
    "    androsensor.loc[host,'Humidity']=airveda.loc[guest,'Humidity']\n",
    "    androsensor.loc[host,'mileage']=mileage\n",
    "    androsensor.loc[host,'VID']=VID\n",
    "    androsensor.loc[host,'SID']=SID\n",
    "\n",
    "airveda_time ='Created_Date(Asia/Kolkata)'\n",
    "androsensor_time = 'YYYY-MO-DD HH-MI-SS_SSS'\n",
    "\n",
    "# for i in range(len(androsensor)):\n",
    "#     if(androsensor.loc[i, androsensor_time] <= airveda.loc[airveda_index,airveda_time]):\n",
    "#         print(androsensor.loc[i, androsensor_time])\n",
    "#         print(airveda.loc[airveda_index,airveda_time])\n",
    "#         append_data(i,airveda_index)\n",
    "#     else:\n",
    "#         if(airveda_index < (len(airveda)-1)):\n",
    "#             airveda_index +=1\n",
    "#             #append_data(i,airveda_index)\n",
    "#         else:\n",
    "#             append_data(i,airveda_index)\n",
    "\n",
    "\n",
    "            \n",
    "        \n",
    "    "
   ]
  },
  {
   "cell_type": "code",
   "execution_count": 53,
   "metadata": {},
   "outputs": [],
   "source": [
    "airveda_index =0\n",
    "andro_index=0\n",
    "andro_records= len(androsensor)\n",
    "while(andro_index < andro_records):\n",
    "    if(androsensor.loc[andro_index, androsensor_time] <= airveda.loc[airveda_index,airveda_time]):\n",
    "        append_data(andro_index,airveda_index)\n",
    "        andro_index +=1\n",
    "    else:\n",
    "        if(airveda_index < (len(airveda)-1)):\n",
    "            airveda_index +=1\n",
    "        else:\n",
    "            append_data(andro_index,airveda_index)\n",
    "            andro_index +=1"
   ]
  },
  {
   "cell_type": "code",
   "execution_count": 54,
   "metadata": {},
   "outputs": [],
   "source": [
    "with open('major_dataset.csv','a',newline='\\n') as f:\n",
    "    androsensor.to_csv(f,header=False,index=False)\n",
    "#androsensor.to_csv('major_dataset.csv',index=False)"
   ]
  },
  {
   "cell_type": "code",
   "execution_count": 1,
   "metadata": {
    "scrolled": true
   },
   "outputs": [],
   "source": [
    "#airveda.head(5)"
   ]
  },
  {
   "cell_type": "code",
   "execution_count": 2,
   "metadata": {},
   "outputs": [],
   "source": [
    "#airveda.dtypes"
   ]
  },
  {
   "cell_type": "code",
   "execution_count": 3,
   "metadata": {},
   "outputs": [],
   "source": [
    "#androsensor.shape"
   ]
  },
  {
   "cell_type": "code",
   "execution_count": 4,
   "metadata": {},
   "outputs": [],
   "source": [
    "#androsensor['YYYY-MO-DD HH-MI-SS_SSS']=androsensor['YYYY-MO-DD HH-MI-SS_SSS'].str[:19]"
   ]
  },
  {
   "cell_type": "code",
   "execution_count": 5,
   "metadata": {},
   "outputs": [],
   "source": [
    "#androsensor['YYYY-MO-DD HH-MI-SS_SSS'] = pd.to_datetime(androsensor['YYYY-MO-DD HH-MI-SS_SSS'] )"
   ]
  },
  {
   "cell_type": "code",
   "execution_count": 6,
   "metadata": {},
   "outputs": [],
   "source": [
    "#airveda_index =0\n"
   ]
  },
  {
   "cell_type": "code",
   "execution_count": 7,
   "metadata": {},
   "outputs": [],
   "source": [
    "# def append_data(host, guest):\n",
    "#     androsensor.loc[host,'AQI']=airveda.loc[guest,'AQI']\n",
    "#     androsensor.loc[host,'PM2.5']=airveda.loc[guest,'PM2.5']\n",
    "#     androsensor.loc[host,'PM10']=airveda.loc[guest,'PM10']\n",
    "#     androsensor.loc[host,'CO2']=airveda.loc[guest,'CO2']\n",
    "#     androsensor.loc[host,'Temperature']=airveda.loc[guest,'Temperature']\n",
    "#     androsensor.loc[host,'Humidity']=airveda.loc[guest,'Humidity']\n",
    "#     androsensor.loc[host,'mileage']='3100'\n",
    "#     androsensor.loc[host,'VID']='hr03y1973'\n",
    "#     androsensor.loc[host,'SID']='1201180118'\n",
    "    "
   ]
  },
  {
   "cell_type": "code",
   "execution_count": 8,
   "metadata": {},
   "outputs": [],
   "source": [
    "# airveda_time ='Created_Date(Asia/Kolkata)'\n",
    "# androsensor_time = 'YYYY-MO-DD HH-MI-SS_SSS'"
   ]
  },
  {
   "cell_type": "code",
   "execution_count": 9,
   "metadata": {},
   "outputs": [],
   "source": [
    "# for i in range(len(androsensor)):\n",
    "#     if(androsensor.loc[i, androsensor_time] <= airveda.loc[airveda_index,airveda_time]):\n",
    "#         append_data(i,airveda_index)\n",
    "#     else:\n",
    "#         if(airveda_index < (len(airveda)-1)):\n",
    "#             airveda_index +=1\n",
    "#             append_data(i,airveda_index)\n",
    "#         else:\n",
    "#             append_data(i,airveda_index)"
   ]
  },
  {
   "cell_type": "code",
   "execution_count": 10,
   "metadata": {},
   "outputs": [],
   "source": [
    "# androsensor.head(10)"
   ]
  },
  {
   "cell_type": "code",
   "execution_count": 37,
   "metadata": {},
   "outputs": [],
   "source": [
    "#androsensor.to_csv('04112019_paritosh_trip.csv')"
   ]
  },
  {
   "cell_type": "code",
   "execution_count": 12,
   "metadata": {},
   "outputs": [],
   "source": [
    "#df =pd.DataFrame({'a':[1,2,3],'b':[4,5,6]})"
   ]
  },
  {
   "cell_type": "code",
   "execution_count": 32,
   "metadata": {},
   "outputs": [],
   "source": [
    "# df2 = pd.DataFrame({'a':[11,22,33],'b':[44,55,66]})\n",
    "# df.to_csv('testing.csv',index=False)"
   ]
  },
  {
   "cell_type": "code",
   "execution_count": 33,
   "metadata": {},
   "outputs": [],
   "source": [
    "# with open('testing.csv','a',newline='\\n') as f:\n",
    "#     df2.to_csv(f,header=False,index=False)"
   ]
  },
  {
   "cell_type": "code",
   "execution_count": 34,
   "metadata": {},
   "outputs": [
    {
     "data": {
      "text/html": [
       "<div>\n",
       "<style scoped>\n",
       "    .dataframe tbody tr th:only-of-type {\n",
       "        vertical-align: middle;\n",
       "    }\n",
       "\n",
       "    .dataframe tbody tr th {\n",
       "        vertical-align: top;\n",
       "    }\n",
       "\n",
       "    .dataframe thead th {\n",
       "        text-align: right;\n",
       "    }\n",
       "</style>\n",
       "<table border=\"1\" class=\"dataframe\">\n",
       "  <thead>\n",
       "    <tr style=\"text-align: right;\">\n",
       "      <th></th>\n",
       "      <th>a</th>\n",
       "      <th>b</th>\n",
       "    </tr>\n",
       "  </thead>\n",
       "  <tbody>\n",
       "    <tr>\n",
       "      <th>0</th>\n",
       "      <td>11</td>\n",
       "      <td>44</td>\n",
       "    </tr>\n",
       "    <tr>\n",
       "      <th>1</th>\n",
       "      <td>22</td>\n",
       "      <td>55</td>\n",
       "    </tr>\n",
       "    <tr>\n",
       "      <th>2</th>\n",
       "      <td>33</td>\n",
       "      <td>66</td>\n",
       "    </tr>\n",
       "  </tbody>\n",
       "</table>\n",
       "</div>"
      ],
      "text/plain": [
       "    a   b\n",
       "0  11  44\n",
       "1  22  55\n",
       "2  33  66"
      ]
     },
     "execution_count": 34,
     "metadata": {},
     "output_type": "execute_result"
    }
   ],
   "source": [
    "# df2.head()"
   ]
  },
  {
   "cell_type": "code",
   "execution_count": 35,
   "metadata": {},
   "outputs": [],
   "source": [
    "# df2_read=pd.read_csv('testing.csv')"
   ]
  },
  {
   "cell_type": "code",
   "execution_count": 36,
   "metadata": {},
   "outputs": [
    {
     "data": {
      "text/html": [
       "<div>\n",
       "<style scoped>\n",
       "    .dataframe tbody tr th:only-of-type {\n",
       "        vertical-align: middle;\n",
       "    }\n",
       "\n",
       "    .dataframe tbody tr th {\n",
       "        vertical-align: top;\n",
       "    }\n",
       "\n",
       "    .dataframe thead th {\n",
       "        text-align: right;\n",
       "    }\n",
       "</style>\n",
       "<table border=\"1\" class=\"dataframe\">\n",
       "  <thead>\n",
       "    <tr style=\"text-align: right;\">\n",
       "      <th></th>\n",
       "      <th>a</th>\n",
       "      <th>b</th>\n",
       "    </tr>\n",
       "  </thead>\n",
       "  <tbody>\n",
       "    <tr>\n",
       "      <th>0</th>\n",
       "      <td>1</td>\n",
       "      <td>4</td>\n",
       "    </tr>\n",
       "    <tr>\n",
       "      <th>1</th>\n",
       "      <td>2</td>\n",
       "      <td>5</td>\n",
       "    </tr>\n",
       "    <tr>\n",
       "      <th>2</th>\n",
       "      <td>3</td>\n",
       "      <td>6</td>\n",
       "    </tr>\n",
       "    <tr>\n",
       "      <th>3</th>\n",
       "      <td>11</td>\n",
       "      <td>44</td>\n",
       "    </tr>\n",
       "    <tr>\n",
       "      <th>4</th>\n",
       "      <td>22</td>\n",
       "      <td>55</td>\n",
       "    </tr>\n",
       "  </tbody>\n",
       "</table>\n",
       "</div>"
      ],
      "text/plain": [
       "    a   b\n",
       "0   1   4\n",
       "1   2   5\n",
       "2   3   6\n",
       "3  11  44\n",
       "4  22  55"
      ]
     },
     "execution_count": 36,
     "metadata": {},
     "output_type": "execute_result"
    }
   ],
   "source": [
    "df2_read.head()"
   ]
  },
  {
   "cell_type": "code",
   "execution_count": null,
   "metadata": {},
   "outputs": [],
   "source": []
  }
 ],
 "metadata": {
  "kernelspec": {
   "display_name": "Python 3",
   "language": "python",
   "name": "python3"
  },
  "language_info": {
   "codemirror_mode": {
    "name": "ipython",
    "version": 3
   },
   "file_extension": ".py",
   "mimetype": "text/x-python",
   "name": "python",
   "nbconvert_exporter": "python",
   "pygments_lexer": "ipython3",
   "version": "3.7.5"
  }
 },
 "nbformat": 4,
 "nbformat_minor": 2
}
